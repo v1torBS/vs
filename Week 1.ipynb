{
  "nbformat": 4,
  "nbformat_minor": 0,
  "metadata": {
    "colab": {
      "provenance": []
    },
    "kernelspec": {
      "name": "python3",
      "display_name": "Python 3"
    },
    "language_info": {
      "name": "python"
    }
  },
  "cells": [
    {
      "cell_type": "code",
      "source": [
        "name = input (\"Enter your name: \")\n",
        "city = input (\"Enter your city: \")\n",
        "tel = input (\"Enter your tel number: \")\n",
        "\n",
        "print (name,\"from\",city,\"tel is\",tel)\n",
        "\n"
      ],
      "metadata": {
        "colab": {
          "base_uri": "https://localhost:8080/"
        },
        "id": "bNNGG8JI0YJE",
        "outputId": "5a573671-d51f-4c3d-c0c1-f106e79ed21d"
      },
      "execution_count": null,
      "outputs": [
        {
          "output_type": "stream",
          "name": "stdout",
          "text": [
            "Enter your name: Vitor\n",
            "Enter your city: Brasilia\n",
            "Enter your tel numberaaaa\n",
            "Vitor from Brasilia tel is aaaa\n"
          ]
        }
      ]
    },
    {
      "cell_type": "code",
      "source": [
        "age = int(input (\"How old are you? \"))\n",
        "print (age*3)"
      ],
      "metadata": {
        "colab": {
          "base_uri": "https://localhost:8080/"
        },
        "id": "RFq4G0yW5Kdn",
        "outputId": "c74c38f0-8ac2-4ff1-adab-ea321053b8a4"
      },
      "execution_count": null,
      "outputs": [
        {
          "output_type": "stream",
          "name": "stdout",
          "text": [
            "How old are you? 18\n",
            "54\n"
          ]
        }
      ]
    },
    {
      "cell_type": "code",
      "source": [
        "n1 = float(input(\"Pick a number: \"))\n",
        "n2 = float(input(\"Pick another number: \"))\n",
        "\n",
        "print(n1/n2)"
      ],
      "metadata": {
        "colab": {
          "base_uri": "https://localhost:8080/"
        },
        "id": "e1J44QML56Gl",
        "outputId": "524287a3-89c3-4ad4-d713-90602d8ba609"
      },
      "execution_count": null,
      "outputs": [
        {
          "output_type": "stream",
          "name": "stdout",
          "text": [
            "Pick a number: 7\n",
            "Pick another number: 2\n",
            "3.5\n"
          ]
        }
      ]
    },
    {
      "cell_type": "code",
      "source": [
        "x = int(input(\"Enter a number: \"))\n",
        "y = int(input(\"Enter a number: \"))\n",
        "\n",
        "if y==0:\n",
        "  print (\"I cannot divide by zero\")\n",
        "  print (\"You are stupid!\")\n",
        "else:\n",
        "  print (x/y)"
      ],
      "metadata": {
        "colab": {
          "base_uri": "https://localhost:8080/"
        },
        "id": "opf74Yuy702j",
        "outputId": "8bd8b455-0daf-4b1b-e50a-a9fb6193bba4"
      },
      "execution_count": null,
      "outputs": [
        {
          "output_type": "stream",
          "name": "stdout",
          "text": [
            "Enter a number: 1\n",
            "Enter a number: 0\n",
            "I cannot divide by zero\n",
            "You are stupid!\n"
          ]
        }
      ]
    },
    {
      "cell_type": "code",
      "source": [
        "x = int(input(\"Pick an integer number: \"))\n",
        "y = int(input(\"Pick another integer number: \"))\n",
        "\n",
        "if x>=y:\n",
        "  print (\"Max is\",x)\n",
        "else:\n",
        "  print (\"Max is\",y)"
      ],
      "metadata": {
        "colab": {
          "base_uri": "https://localhost:8080/"
        },
        "id": "J76I-xSL9DT3",
        "outputId": "d2113e55-2426-4914-9a8c-60b421b2cc1e"
      },
      "execution_count": null,
      "outputs": [
        {
          "output_type": "stream",
          "name": "stdout",
          "text": [
            "Pick an integer number: 2\n",
            "Pick another integer number: 5\n",
            "Max is 5\n"
          ]
        }
      ]
    },
    {
      "cell_type": "code",
      "source": [
        "x = int(input(\"Enter a number: \"))\n",
        "\n",
        "if x>0:\n",
        "  print (\"Positive\")\n",
        "elif x==0:\n",
        "  print (\"Zero\")\n",
        "else:\n",
        "  print (\"Negative\")"
      ],
      "metadata": {
        "colab": {
          "base_uri": "https://localhost:8080/"
        },
        "id": "3abjxQSu9pWG",
        "outputId": "e3518c1b-a0b5-42f5-cb53-6ffc1f0bd2f6"
      },
      "execution_count": null,
      "outputs": [
        {
          "output_type": "stream",
          "name": "stdout",
          "text": [
            "Enter a number: 2\n",
            "Positive\n"
          ]
        }
      ]
    },
    {
      "cell_type": "code",
      "source": [
        "x = int(input(\"Enter a number: \"))\n",
        "if x>=0 and x<=10:\n",
        "  print(\"number bewteen 0 and 10\")\n",
        "else:\n",
        "  print(\"something else...\")"
      ],
      "metadata": {
        "colab": {
          "base_uri": "https://localhost:8080/"
        },
        "id": "9O0-Srn6Gg9i",
        "outputId": "c358d88b-2dec-49f1-8bc9-5ae18ad2ece4"
      },
      "execution_count": null,
      "outputs": [
        {
          "output_type": "stream",
          "name": "stdout",
          "text": [
            "Enter a number: 11\n",
            "something else...\n"
          ]
        }
      ]
    },
    {
      "cell_type": "code",
      "source": [
        "grade = float(input(\"What's your grade?: \"))\n",
        "\n",
        "if grade<10 and grade>=0:\n",
        "  print (\"Fail\")\n",
        "elif grade>=10 and grade<15:\n",
        "  print (\"Pass\")\n",
        "elif grade>=15 and grade<=20:\n",
        "  print (\"Distinction\")\n",
        "else:\n",
        "  print (\"Error\")\n"
      ],
      "metadata": {
        "colab": {
          "base_uri": "https://localhost:8080/"
        },
        "id": "hqkSqOzFHpMz",
        "outputId": "5b7f036f-b6de-4a1f-ed05-54bb6775813f"
      },
      "execution_count": null,
      "outputs": [
        {
          "output_type": "stream",
          "name": "stdout",
          "text": [
            "What's your grade?: 14.999\n",
            "Pass\n"
          ]
        }
      ]
    }
  ]
}
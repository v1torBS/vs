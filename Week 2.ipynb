{
  "nbformat": 4,
  "nbformat_minor": 0,
  "metadata": {
    "colab": {
      "provenance": []
    },
    "kernelspec": {
      "name": "python3",
      "display_name": "Python 3"
    },
    "language_info": {
      "name": "python"
    }
  },
  "cells": [
    {
      "cell_type": "code",
      "execution_count": null,
      "metadata": {
        "colab": {
          "base_uri": "https://localhost:8080/"
        },
        "id": "5YXzHGa8FCKR",
        "outputId": "22a08d5d-c51a-4166-b195-ba68dafc4f8d"
      },
      "outputs": [
        {
          "output_type": "stream",
          "name": "stdout",
          "text": [
            "Enter a number: -7.5\n",
            "Negative\n"
          ]
        }
      ],
      "source": [
        "num = float(input(\"Enter a number: \"))\n",
        "\n",
        "if num>0:\n",
        "  print (\"Positive\")\n",
        "elif num<0:\n",
        "  print (\"Negative\")\n",
        "else:\n",
        "  print (\"Zero\")"
      ]
    },
    {
      "cell_type": "code",
      "source": [
        "num1 = float(input(\"Enter a number: \"))\n",
        "num2 = float(input(\"Enter a number: \"))\n",
        "operation = input(\"Enter a a sign (+,-,*,/,**,>,<): \")\n",
        "\n",
        "if operation==\"+\":\n",
        "  print (num1+num2)\n",
        "elif operation==\"-\":\n",
        "  print (num1-num2)\n",
        "elif operation==\"*\":\n",
        "  print (num1*num2)\n",
        "elif operation==\"/\" and num2!=0:\n",
        "  print (num1/num2)\n",
        "elif operation==\"**\":\n",
        "  print (num1**num2)\n",
        "elif operation==\">\" and num1>num2:\n",
        "  print (num1)\n",
        "elif operation==\">\" and num2>num1:\n",
        "  print (num2)\n",
        "elif operation==\"<\" and num1<num2:\n",
        "  print (num1)\n",
        "elif operation==\"<\" and num2<num1:\n",
        "  print (num1)\n",
        "else:\n",
        "  print (\"I do not support this yet!\")"
      ],
      "metadata": {
        "colab": {
          "base_uri": "https://localhost:8080/"
        },
        "id": "n4yeXHjYGhwS",
        "outputId": "d81f231a-a421-4b64-a15c-1bc4a8ba28fe"
      },
      "execution_count": null,
      "outputs": [
        {
          "output_type": "stream",
          "name": "stdout",
          "text": [
            "Enter a number: 8\n",
            "Enter a number: 9\n",
            "Enter a a sign (+,-,*,/,**,>,<): a\n",
            "I do not support this yet!\n"
          ]
        }
      ]
    },
    {
      "cell_type": "code",
      "source": [
        "text = \"London is the capital and largest city of both England and the United Kingdom, with a population of 8,866,180 in 2022.\"\n",
        "print (len(text))\n",
        "print(text[47:54])\n",
        "print(text[-32:-21])"
      ],
      "metadata": {
        "colab": {
          "base_uri": "https://localhost:8080/"
        },
        "id": "ugwsKx_YNxeL",
        "outputId": "8552fa50-ee6b-4bf3-bb6e-83c9a872e6c1"
      },
      "execution_count": null,
      "outputs": [
        {
          "output_type": "stream",
          "name": "stdout",
          "text": [
            "118\n",
            "England\n",
            "population \n"
          ]
        }
      ]
    },
    {
      "cell_type": "code",
      "source": [
        "text = \"My name is Vitor and I live in London\"\n",
        "print (text[1])"
      ],
      "metadata": {
        "colab": {
          "base_uri": "https://localhost:8080/"
        },
        "id": "gvv8XPDWIj7x",
        "outputId": "0c9921ec-d68b-4c56-9b80-05deb58ffc01"
      },
      "execution_count": null,
      "outputs": [
        {
          "output_type": "stream",
          "name": "stdout",
          "text": [
            "y\n"
          ]
        }
      ]
    },
    {
      "cell_type": "code",
      "source": [
        "text = \"My name is Vitor and I live in London\"\n",
        "print (text[0:])"
      ],
      "metadata": {
        "colab": {
          "base_uri": "https://localhost:8080/"
        },
        "id": "9LJUUrJOM2Mr",
        "outputId": "9c42bc0d-0543-49bb-985a-1fff336e6ed6"
      },
      "execution_count": null,
      "outputs": [
        {
          "output_type": "stream",
          "name": "stdout",
          "text": [
            "My name is Vitor and I live in London\n"
          ]
        }
      ]
    },
    {
      "cell_type": "code",
      "source": [
        "name = \"ABCDEF\"\n",
        "print (name[-1])"
      ],
      "metadata": {
        "colab": {
          "base_uri": "https://localhost:8080/"
        },
        "id": "q0U7cQalL8Es",
        "outputId": "19234b4e-64c4-45df-b742-28294e67ed9b"
      },
      "execution_count": null,
      "outputs": [
        {
          "output_type": "stream",
          "name": "stdout",
          "text": [
            "E\n"
          ]
        }
      ]
    },
    {
      "cell_type": "code",
      "source": [
        "text = input(\"Where are you from?: \")\n",
        "\n",
        "# If the citty starts with L then print \"Capital L\" else print \"Something else\"\n",
        "#Check if the text has a . at the end, if so say you have a dot\n",
        "\n",
        "if text[0]==\"L\":\n",
        "  print(\"Capital L\")\n",
        "else:\n",
        "  print(\"Something else\")\n",
        "\n",
        "if text[-1]==\".\":\n",
        "  print(\"There is a dot.\")\n",
        "else:\n",
        "  print(\"There is no dot\")\n",
        "\n",
        "\n",
        "\n"
      ],
      "metadata": {
        "id": "YrAxTfu5O4c2"
      },
      "execution_count": null,
      "outputs": []
    }
  ]
}